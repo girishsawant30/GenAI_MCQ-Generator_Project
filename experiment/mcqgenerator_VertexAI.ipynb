{
 "cells": [
  {
   "cell_type": "code",
   "execution_count": 5,
   "metadata": {},
   "outputs": [],
   "source": [
    "from langchain.llms import VertexAI\n",
    "from langchain.chat_models import ChatVertexAI\n",
    "from langchain_google_vertexai import ChatVertexAI\n",
    "from langchain.prompts import PromptTemplate\n",
    "from langchain.chains import LLMChain\n",
    "from langchain.chains import SequentialChain\n",
    "from langchain.callbacks import get_openai_callback\n",
    "import os\n",
    "import json\n",
    "import pandas as pd\n",
    "import traceback\n",
    "from dotenv import load_dotenv\n",
    "import PyPDF2"
   ]
  },
  {
   "cell_type": "code",
   "execution_count": 13,
   "metadata": {},
   "outputs": [],
   "source": [
    "from dotenv import load_dotenv\n",
    "load_dotenv() ## loading all the environment variables\n",
    "\n",
    "import os\n",
    "import google.generativeai as genai\n",
    "\n",
    "genai.configure(api_key=os.environ[\"GOOGLE_API_KEY\"]) #Save the API key in a file .env in the with the name GOOGLE_API_KEY = \"key\" on the same path."
   ]
  },
  {
   "cell_type": "code",
   "execution_count": 14,
   "metadata": {},
   "outputs": [],
   "source": [
    "llm = ChatVertexAI(model_name=\"gemini-pro\",temperature=0.6)"
   ]
  },
  {
   "cell_type": "code",
   "execution_count": 16,
   "metadata": {},
   "outputs": [],
   "source": [
    "TEMPLATE=\"\"\"\n",
    "Text:{text}\n",
    "You are an expert MCQ maker. Given the above text, it is your job to \\\n",
    "create a quiz  of {number} multiple choice questions for {subject} students in {tone} tone. \n",
    "Make sure the questions are not repeated and check all the questions to be conforming the text as well.\n",
    "Make sure to format your response like  RESPONSE_JSON below  and use it as a guide. \\\n",
    "Ensure to make {number} MCQs\n",
    "### RESPONSE_JSON\n",
    "{RESPONSE_JSON}\n",
    "\n",
    "\"\"\""
   ]
  },
  {
   "cell_type": "code",
   "execution_count": 21,
   "metadata": {},
   "outputs": [],
   "source": [
    "with open(\"e:\\\\Girish Documents\\\\Study\\\\Data Science\\\\DataScience_GenAI_Study\\\\GenAI_MCQ-Generator_Project\\\\Response.json\") as f:\n",
    "    RESPONSE_JSON = json.load(f)"
   ]
  },
  {
   "cell_type": "code",
   "execution_count": 22,
   "metadata": {},
   "outputs": [
    {
     "name": "stdout",
     "output_type": "stream",
     "text": [
      "{'1': {'no': '1', 'mcq': 'multiple choice questions', 'options': {'a': 'choice here', 'b': 'choice here', 'c': 'choice here', 'd': 'choice here'}, 'correct': 'correct answer'}, '2': {'no': '2', 'mcq': 'multiple choice questions', 'options': {'a': 'choice here', 'b': 'choice here', 'c': 'choice here', 'd': 'choice here'}, 'correct': 'correct answer'}, '3': {'no': '3', 'mcq': 'multiple choice questions', 'options': {'a': 'choice here', 'b': 'choice here', 'c': 'choice here', 'd': 'choice here'}, 'correct': 'correct answer'}}\n"
     ]
    }
   ],
   "source": [
    "print(RESPONSE_JSON)"
   ]
  },
  {
   "cell_type": "code",
   "execution_count": 25,
   "metadata": {},
   "outputs": [],
   "source": [
    "quiz_generation_prompt = PromptTemplate(\n",
    "    input_variables=[\"text\", \"number\", \"subject\",\"tone\",\"RESPONSE_JSON\"],\n",
    "    template=TEMPLATE\n",
    ")"
   ]
  },
  {
   "cell_type": "code",
   "execution_count": 27,
   "metadata": {},
   "outputs": [],
   "source": [
    "quiz_chain = LLMChain(llm=llm,prompt=quiz_generation_prompt,output_key=\"quiz\",verbose=True)"
   ]
  },
  {
   "cell_type": "code",
   "execution_count": 28,
   "metadata": {},
   "outputs": [],
   "source": [
    "TEMPLATE2=\"\"\"\n",
    "You are an expert english grammarian and writer. Given a Multiple Choice Quiz for {subject} students.\\\n",
    "You need to evaluate the complexity of the question and give a complete analysis of the quiz. Only use at max 50 words for complexity analysis. \n",
    "if the quiz is not at per with the cognitive and analytical abilities of the students,\\\n",
    "update the quiz questions which needs to be changed and change the tone such that it perfectly fits the student abilities\n",
    "Quiz_MCQs:\n",
    "{quiz}\n",
    "\n",
    "Check from an expert English Writer of the above quiz:\n",
    "\"\"\""
   ]
  },
  {
   "cell_type": "code",
   "execution_count": 29,
   "metadata": {},
   "outputs": [],
   "source": [
    "quiz_evaluation_prompt=PromptTemplate(input_variables=[\"subject\", \"quiz\"], template=TEMPLATE2)"
   ]
  },
  {
   "cell_type": "code",
   "execution_count": 30,
   "metadata": {},
   "outputs": [],
   "source": [
    "quiz_review_chain=LLMChain(llm=llm, prompt=quiz_evaluation_prompt, output_key=\"review\",verbose=True)"
   ]
  },
  {
   "cell_type": "code",
   "execution_count": 32,
   "metadata": {},
   "outputs": [],
   "source": [
    "generate_evaluate_chain=SequentialChain(chains=[quiz_chain, quiz_review_chain], input_variables=[\"text\", \"number\", \"subject\", \"tone\", \"RESPONSE_JSON\"],output_variables=[\"quiz\", \"review\"], verbose=True)\n"
   ]
  },
  {
   "cell_type": "code",
   "execution_count": 33,
   "metadata": {},
   "outputs": [],
   "source": [
    "PATH=\"E:\\Girish Documents\\Study\\Data Science\\DataScience_GenAI_Study\\GenAI_MCQ-Generator_Project\\data.txt\""
   ]
  },
  {
   "cell_type": "code",
   "execution_count": 34,
   "metadata": {},
   "outputs": [
    {
     "name": "stdout",
     "output_type": "stream",
     "text": [
      "E:\\Girish Documents\\Study\\Data Science\\DataScience_GenAI_Study\\GenAI_MCQ-Generator_Project\\data.txt\n"
     ]
    }
   ],
   "source": [
    "print(PATH)"
   ]
  },
  {
   "cell_type": "code",
   "execution_count": 35,
   "metadata": {},
   "outputs": [],
   "source": [
    "with open(PATH,\"r\") as file:\n",
    "    TEXT = file.read()"
   ]
  },
  {
   "cell_type": "code",
   "execution_count": 36,
   "metadata": {},
   "outputs": [
    {
     "name": "stdout",
     "output_type": "stream",
     "text": [
      "Generative artificial intelligence (generative AI, GAI, or GenAI[1]) is artificial intelligence capable of generating text, images, or other media, using generative models.[2][3][4] Generative AI models learn the patterns and structure of their input training data and then generate new data that has similar characteristics.[5][6]\n",
      "\n",
      "In the early 2020s, advances in transformer-based deep neural networks enabled a number of generative AI systems notable for accepting natural language prompts as input. These include large language model (LLM) chatbots such as ChatGPT, Copilot, Bard, and LLaMA, and text-to-image artificial intelligence art systems such as Stable Diffusion, Midjourney, and DALL-E.[7][8][9]\n",
      "\n",
      "Generative AI has uses across a wide range of industries, including art, writing, script writing, software development, product design, healthcare, finance, gaming, marketing, and fashion.[10][11][12] Investment in generative AI surged during the early 2020s, with large companies such as Microsoft, Google, and Baidu as well as numerous smaller firms developing generative AI models.[2][13][14] However, there are also concerns about the potential misuse of generative AI, including cybercrime, the creation fake news, or the production of deepfakes that can be used to deceive or manipulate people.[15][16]\n",
      "\n",
      "History\n",
      "Main article: History of artificial intelligence\n",
      "The academic discipline of artificial intelligence was established at a research workshop held at Dartmouth College in 1956 and has experienced several waves of advancement and optimism in the decades since.[17] Since its inception, researchers in the field have raised philosophical and ethical arguments about the nature of the human mind and the consequences of creating artificial beings with human-like intelligence; these issues have previously been explored by myth, fiction and philosophy since antiquity.[18] The concept of automated art dates back at least to the automata of ancient Greek civilization, where inventors such as Daedalus and Hero of Alexandria were described as having designed machines capable of writing text, generating sounds, and playing music.[19][20] The tradition of creative automatons has flourished throughout history, exemplified by Maillardet's automaton created in the early 1800s.[21]\n",
      "\n",
      "Artificial Intelligence is an idea that has been captivating society since the mid-20th century. It began with science fiction familiarizing the world with the concept but the idea wasn't fully seen in the scientific manner until Alan Turing, a polymath, was curious about the feasibility of the concept. Turing's groundbreaking 1950 paper, \"Computing Machinery and Intelligence,\" posed fundamental questions about machine reasoning similar to human intelligence, significantly contributing to the conceptual groundwork of AI. The development of AI was not very rapid at first because of the high costs and the fact that computers were not able to store commands. This changed during the 1956 Dartmouth Summer Research Project on AI where there was an inspiring call for AI research which led it to be a landmark event as it set the precedent for two decades of rapid advancements in the field.[22]\n",
      "\n",
      "Since the founding of AI in the 1950s, artists and researchers have used artificial intelligence to create artistic works. By the early 1970s, Harold Cohen was creating and exhibiting generative AI works created by AARON, the computer program Cohen created to generate paintings.[23]\n",
      "\n",
      "Markov chains have long been used to model natural languages since their development by Russian mathematician Andrey Markov in the early 20th century. Markov published his first paper on the topic in 1906,[24][25][26] and analyzed the pattern of vowels and consonants in the novel Eugeny Onegin using Markov chains. Once a Markov chain is learned on a text corpus, it can then be used as a probabilistic text generator.[27][28]\n",
      "\n",
      "The field of machine learning often uses statistical models, including generative models, to model and predict data. Beginning in the late 2000s, the emergence of deep learning drove progress and research in image classification, speech recognition, natural language processing and other tasks. Neural networks in this era were typically trained as discriminative models, due to the difficulty of generative modeling.[29]\n",
      "\n",
      "In 2014, advancements such as the variational autoencoder and generative adversarial network produced the first practical deep neural networks capable of learning generative models, as opposed to discriminative ones, for complex data such as images. These deep generative models were the first to output not only class labels for images but also entire images.\n",
      "\n",
      "In 2017, the Transformer network enabled advancements in generative models compared to older Long-Short Term Memory models,[30] leading to the first generative pre-trained transformer (GPT), known as GPT-1, in 2018.[31] This was followed in 2019 by GPT-2 which demonstrated the ability to generalize unsupervised to many different tasks as a Foundation model.[32]\n",
      "\n",
      "In 2021, the release of DALL-E, a transformer-based pixel generative model, followed by Midjourney and Stable Diffusion marked the emergence of practical high-quality artificial intelligence art from natural language prompts.\n",
      "\n",
      "In March 2023, GPT-4 was released. A team from Microsoft Research argued that \"it could reasonably be viewed as an early (yet still incomplete) version of an artificial general intelligence (AGI) system\".[33] Other scholars have disputed that GPT-4 reaches this threshold, calling generative AI \"still far from reaching the benchmark of ‘general human intelligence’\" as of 2023.[34]\n",
      "\n",
      "Modalities\n",
      "A generative AI system is constructed by applying unsupervised or self-supervised machine learning to a data set. The capabilities of a generative AI system depend on the modality or type of the data set used.\n",
      "\n",
      "Generative AI can be either unimodal or multimodal; unimodal systems take only one type of input, whereas multimodal systems can take more than one type of input.[35] For example, one version of OpenAI's GPT-4 accepts both text and image inputs.[36]\n",
      "\n",
      "Text\n",
      "\n",
      "A user conversing with a Character.ai simulation of Ludwig Wittgenstein\n",
      "Generative AI systems trained on words or word tokens include GPT-3, LaMDA, LLaMA, BLOOM, GPT-4, and others (see List of large language models). They are capable of natural language processing, machine translation, and natural language generation and can be used as foundation models for other tasks.[37] Data sets include BookCorpus, Wikipedia, and others (see List of text corpora).\n",
      "\n",
      "Code\n",
      "In addition to natural language text, large language models can be trained on programming language text, allowing them to generate source code for new computer programs.[38] Examples include OpenAI Codex.\n",
      "\n",
      "Images\n",
      "See also: Artificial intelligence art\n",
      "\n",
      "Stable Diffusion, prompt a photograph of an astronaut riding a horse\n",
      "Producing high-quality visual art is a prominent application of generative AI.[39] Many such artistic works have received public awards and recognition.\n",
      "\n",
      "Generative AI systems trained on sets of images with text captions include Imagen, DALL-E, Midjourney, Adobe Firefly, Stable Diffusion and others (see Artificial intelligence art, Generative art, and Synthetic media). They are commonly used for text-to-image generation and neural style transfer.[40] Datasets include LAION-5B and others (See List of datasets in computer vision and image processing).\n",
      "\n",
      "Audio\n",
      "Generative AI can also be trained extensively on audio clips to produce natural-sounding speech synthesis and text-to-speech capabilities, exemplified by ElevenLabs' context-aware synthesis tools or Meta Platform's Voicebox.[41]\n",
      "\n",
      "Duration: 16 seconds.0:16\n",
      "AI-generated music from the Riffusion Inference Server, prompted with bossa nova with electric guitar\n",
      "Generative AI systems such as MusicLM[42] and MusicGen[43] can also be trained on the audio waveforms of recorded music along with text annotations, in order to generate new musical samples based on text descriptions such as a calming violin melody backed by a distorted guitar riff.\n",
      "\n",
      "Generative audio\n",
      "This section is an excerpt from Generative audio.[edit]\n",
      "Generative audio refers to the creation of audio files from databases of audio clips. This technology differs from AI voices such as Apple's Siri or Amazon's Alexa, which use a collection of fragments that are stitched together on demand.\n",
      "\n",
      "\n",
      "Audio curves\n",
      "Generative audio works by using neural networks to learn the statistical properties of an audio source, then reproduces those properties.[44]\n",
      "Video\n",
      "Runway Gen2, prompt A golden retriever in a suit sitting at a podium giving a speech to the white house press corps\n",
      "Generative AI trained on annotated video can generate temporally-coherent video clips. Examples include Gen-1 and Gen-2 by Runway[45] and Make-A-Video by Meta Platforms.[46]\n",
      "\n",
      "Molecules\n",
      "Generative AI systems can be trained on sequences of amino acids or molecular representations such as SMILES representing DNA or proteins. These systems, such as AlphaFold, are used for protein structure prediction and drug discovery.[47] Datasets include various biological datasets.\n",
      "\n",
      "Robotics\n",
      "Generative AI can also be trained on the motions of a robotic system to generate new trajectories for motion planning or navigation. For example, UniPi from Google Research uses prompts like \"pick up blue bowl\" or \"wipe plate with yellow sponge\" to control movements of a robot arm.[48] Multimodal \"vision-language-action\" models such as Google's RT-2 can perform rudimentary reasoning in response to user prompts and visual input, such as picking up a toy dinosaur when given the prompt pick up the extinct animal at a table filled with toy animals and other objects.[49]\n",
      "\n",
      "Planning\n",
      "The terms generative AI planning or generative planning were used in the 1980s and 1990s to refer to AI planning systems, especially computer-aided process planning, used to generate sequences of actions to reach a specified goal.[50][51]\n",
      "\n",
      "Generative AI planning systems used symbolic AI methods such as state space search and constraint satisfaction and were a \"relatively mature\" technology by the early 1990s. They were used to generate crisis action plans for military use,[52] process plans for manufacturing[50] and decision plans such as in prototype autonomous spacecraft.[53]\n",
      "\n",
      "Data\n",
      "Generative AI systems are often used to develop synthetic data as an alternative to data produced by real-world events. Such data can be deployed to validate mathematical models and to train machine learning models while preserving user privacy,[54] including for structured data.[55] The approach is not limited to text generation; image generation has been employed to train computer vision models.[56]\n",
      "\n",
      "Business Intelligence\n",
      "In recent developments within the field of generative artificial intelligence, the concept of \"Generative Business Intelligence (BI)\"[57] has emerged as a notable application. Generative BI refers to the use of generative AI techniques to enhance business intelligence and analytics, enabling more advanced data interpretation and decision-making processes. This approach leverages the generative capabilities of AI to simulate potential business scenarios and outcomes, providing valuable insights for strategic planning.\n",
      "\n",
      "Software and hardware\n",
      "Generative AI models are used to power chatbot products such as ChatGPT, programming tools such as GitHub Copilot,[58] text-to-image products such as Midjourney, and text-to-video products such as Runway Gen-2.[59] Generative AI features have been integrated into a variety of existing commercially available products such as Microsoft Office,[60] Google Photos,[61] and Adobe Photoshop.[62] Many generative AI models are also available as open-source software, including Stable Diffusion and the LLaMA[63] language model.\n",
      "\n",
      "Smaller generative AI models with up to a few billion parameters can run on smartphones, embedded devices, and personal computers. For example, LLaMA-7B (a version with 7 billion parameters) can run on a Raspberry Pi 4[64] and one version of Stable Diffusion can run on an iPhone 11.[65]\n",
      "\n",
      "Larger models with tens of billions of parameters can run on laptop or desktop computers. To achieve an acceptable speed, models of this size may require accelerators such as the GPU chips produced by NVIDIA and AMD or the Neural Engine included in Apple silicon products. For example, the 65 billion parameter version of LLaMA can be configured to run on a desktop PC.[66]\n",
      "\n",
      "The advantages of running generative AI locally include protection of privacy and intellectual property, and avoidance of rate limiting and censorship. The subreddit r/LocalLLaMA in particular focuses on using consumer-grade gaming graphics cards[67] through such techniques as compression. That forum is one of only two sources Andrej Karpathy trusts for language model benchmarks.[68] Yann LeCun has advocated open-source models for their value to vertical applications[69] and for improving AI safety.[70]\n",
      "\n",
      "Language models with hundreds of billions of parameters, such as GPT-4 or PaLM, typically run on datacenter computers equipped with arrays of GPUs (such as NVIDIA's H100) or AI accelerator chips (such as Google's TPU). These very large models are typically accessed as cloud services over the Internet.\n",
      "\n",
      "In 2022, the United States New Export Controls on Advanced Computing and Semiconductors to China imposed restrictions on exports to China of GPU and AI accelerator chips used for generative AI.[71] Chips such as the NVIDIA A800[72] and the Biren Technology BR104[73] were developed to meet the requirements of the sanctions.\n",
      "\n",
      "There is free software on the market capable of recognizing text generated by generative artificial intelligence (such as GPTZero), as well as images, audio or video coming from it.[74]\n",
      "\n",
      "Concerns\n",
      "See also: Ethics of artificial intelligence and Existential risk from artificial general intelligence\n",
      "The impact of AI on numerous industries has been profound, revolutionizing productivity, decision-making processes, and customer experiences. However, amidst this progress, challenges and concerns have emerged.\n",
      "\n",
      "The development of generative AI has raised concerns from governments, businesses, and individuals, resulting in protests, legal actions, calls to pause AI experiments, and actions by multiple governments. In a July 2023 briefing of the United Nations Security Council, Secretary-General António Guterres stated \"Generative AI has enormous potential for good and evil at scale\", that AI may \"turbocharge global development\" and contribute between $10 and $15 trillion to the global economy by 2030, but that its malicious use \"could cause horrific levels of death and destruction, widespread trauma, and deep psychological damage on an unimaginable scale\".[75]\n",
      "\n",
      "Job losses\n",
      "\n",
      "A picketer at the 2023 Writers Guild of America strike. While not a top priority, one of the WGA's 2023 requests was \"regulations around the use of (generative) AI\".[76]\n",
      "Main articles: Workplace impact of artificial intelligence and Technological unemployment\n",
      "From the early days of the development of AI, there have been arguments put forward by ELIZA creator Joseph Weizenbaum and others about whether tasks that can be done by computers actually should be done by them, given the difference between computers and humans, and between quantitative calculations and qualitative, value-based judgements.[77] In April 2023, it was reported that image generation AI has resulted in 70% of the jobs for video game illustrators in China being lost.[78][79] In July 2023, developments in generative AI contributed to the 2023 Hollywood labor disputes. Fran Drescher, president of the Screen Actors Guild, declared that \"artificial intelligence poses an existential threat to creative professions\" during the 2023 SAG-AFTRA strike.[80] Voice generation AI has been seen as a potential challenge to the voice acting sector.[81][82]\n",
      "\n",
      "The intersection of AI and employment concerns among underrepresented groups globally remains a critical facet. While AI promises efficiency enhancements and skill acquisition, concerns about job displacement and biased recruiting processes persist among these groups, as outlined in surveys by Fast Company. To leverage AI for a more equitable society, proactive steps encompass mitigating biases, advocating transparency, respecting privacy and consent, and embracing diverse teams and ethical considerations. Strategies involve redirecting policy emphasis on regulation, inclusive design, and education's potential for personalized teaching to maximize benefits while minimizing harms.[83]\n",
      "\n",
      "Finance\n",
      "In the financial realm, significant investment surges, as highlighted in discussions by Daron Acemoglu, have led to transformative tools like robo-advisors, reshaping traditional financial practices. Acemoglu's warnings about potential adverse societal consequences stemming from AI, particularly in data harvesting, customer manipulation, and labor market disparities, underscore the complexities of AI's impact on society.[84]\n",
      "\n",
      "Social Identities\n",
      "AI's integration with social identities, elucidated by Marcin Frackiewiczin, holds both promises and challenges. AI's ability to transform traditional research methods, unveiling nuanced patterns within Social identity realms, has immense potential. However, biases ingrained in AI systems perpetuate stereotypes and marginalize groups, emphasizing the critical need to address these biases for inclusivity.[85]\n",
      "\n",
      "Deepfakes\n",
      "Main article: Deepfake\n",
      "Deepfakes (a portmanteau of \"deep learning\" and \"fake\"[86]) are AI-generated media that take a person in an existing image or video and replace them with someone else's likeness using artificial neural networks.[87] Deepfakes have garnered widespread attention and concerns for their uses in deepfake celebrity pornographic videos, revenge porn, fake news, hoaxes, and financial fraud.[88][89][90][91] This has elicited responses from both industry and government to detect and limit their use.[92][93]\n",
      "\n",
      "Audio deepfakes\n",
      "Main article: Audio deepfake\n",
      "Instances of users abusing software to generate controversial statements in the vocal style of celebrities, public officials, and other famous individuals have raised ethical concerns over voice generation AI.[94][95][96][97][98][99] In response, companies such as ElevenLabs have stated that they would work on mitigating potential abuse through safeguards and identity verification.[100]\n",
      "\n",
      "Concerns and fandom have spawned from AI generated music. The same software used to clone voices has been used on famous musicians' voices to create songs that mimic their voices, gaining both tremendous popularity and criticism.[101][102][103] Similar techniques have also been used to create improved quality or full-length versions of songs that have been leaked or have yet to be released.[104]\n",
      "\n",
      "Generative AI has also been used to create new digital artist personalities, with some of these receiving enough attention to receive record deals at major labels.[105] The developers of these virtual artists have also faced their fair share of criticism for their personified programs, including backlash for \"dehumanizing\" an artform, and also creating artists which create unrealistic or immoral appeals to their audiences.[106]\n",
      "\n",
      "Cybercrime\n",
      "Generative AI's ability to create realistic fake content has been exploited in numerous types of cybercrime, including phishing scams.[107] Deepfake video and audio have been used to create disinformation and fraud. Former Google fraud czar Shuman Ghosemajumder has predicted that while deepfake videos initially created a stir in the media, they would soon become commonplace, and as a result, more dangerous.[108] Additionally, large-language models and other forms of text-generation AI have been at a broad scale to create fake reviews on e-commerce websites to boost ratings.[109] Cybercriminals have created large language models focused on fraud, including WormGPT and FraudGPT.[110]\n",
      "\n",
      "Recent research done in 2023 has revealed that generative AI has weaknesses that can be manipulated by criminals to extract harmful information bypassing ethical safeguards. The study presents example attacks done on ChatGPT including Jailbreaks and reverse psychology. Additionally, malicious individuals can use ChatGPT for social engineering attacks and phishing attacks, revealing the harmful side of these technologies.[111]\n",
      "\n",
      "Misuse in journalism\n",
      "In January 2023, Futurism.com broke the story that CNET had been using an undisclosed internal AI tool to write at least 77 of its stories; after the news broke, CNET posted corrections to 41 of the stories.[112]\n",
      "\n",
      "In April 2023, the German tabloid Die Aktuelle published a fake AI-generated interview with former racing driver Michael Schumacher, who had not made any public appearances since 2013 after sustaining a brain injury in a skiing accident. The story included two possible disclosures: the cover included the line \"deceptively real\", and the interview included an acknowledgment at the end that it was AI-generated. The editor-in-chief was fired shortly thereafter amid the controversy.[113]\n",
      "\n",
      "Other outlets that have published articles whose content and/or byline have been confirmed or suspected to be created by generative AI models – often with false content, errors, and/or non-disclosure of generative AI use - include NewsBreak,[114] outlets owned by Arena Group (Sports Illustrated,[115] TheStreet,[115] Men's Journal[116]), B&H Photo,[117] outlets owned by Gannett (The Columbus Dispatch,[118][119] Reviewed[120]), MSN,[121] News Corp,[122] outlets owned by G/O Media[123] (Gizmodo,[124] Jalopnik,[124] A.V. Club[124][125]), The Irish Times,[126] outlets owned by Red Ventures (Bankrate[127]), and BuzzFeed.[128]\n",
      "\n",
      "In response to potential pitfalls around the use and misuse of generative AI in journalism, outlets such as Wired, The Associated Press and The Guardian have published guidelines around how they plan to use and not use generative AI in their work.[129][130][131]\n",
      "\n",
      "Regulation\n",
      "Main article: Regulation of artificial intelligence\n",
      "In the European Union, the proposed Artificial Intelligence Act includes requirements to disclose copyrighted material used to train generative AI systems, and to label any AI-generated output as such.[132][133]\n",
      "\n",
      "In the United States, a group of companies including OpenAI, Alphabet, and Meta signed a voluntary agreement with the White House in July 2023 to watermark AI-generated content.[134]\n",
      "\n",
      "In China, the Interim Measures for the Management of Generative AI Services introduced by the Cyberspace Administration of China regulates any public-facing generative AI. It includes requirements to watermark generated images or videos, regulations on training data and label quality, restrictions on personal data collection, and a guideline that generative AI must \"adhere to socialist core values\".[135][136]\n"
     ]
    }
   ],
   "source": [
    "print(TEXT)"
   ]
  },
  {
   "cell_type": "code",
   "execution_count": null,
   "metadata": {},
   "outputs": [],
   "source": [
    "MCQ"
   ]
  }
 ],
 "metadata": {
  "kernelspec": {
   "display_name": "genaiMCQ",
   "language": "python",
   "name": "python3"
  },
  "language_info": {
   "codemirror_mode": {
    "name": "ipython",
    "version": 3
   },
   "file_extension": ".py",
   "mimetype": "text/x-python",
   "name": "python",
   "nbconvert_exporter": "python",
   "pygments_lexer": "ipython3",
   "version": "3.8.18"
  }
 },
 "nbformat": 4,
 "nbformat_minor": 2
}
