{
 "cells": [
  {
   "cell_type": "code",
   "execution_count": 6,
   "metadata": {},
   "outputs": [],
   "source": [
    "from langchain.llms import OpenAI\n",
    "from langchain.chat_models import ChatOpenAI\n",
    "from langchain.prompts import PromptTemplate\n",
    "from langchain.chains import LLMChain\n",
    "from langchain.chains import SequentialChain\n",
    "from langchain.callbacks import get_openai_callback\n",
    "import os\n",
    "import json\n",
    "import pandas as pd\n",
    "import traceback\n",
    "from dotenv import load_dotenv\n",
    "import PyPDF2"
   ]
  },
  {
   "cell_type": "code",
   "execution_count": 7,
   "metadata": {},
   "outputs": [],
   "source": [
    "from dotenv import load_dotenv\n",
    "load_dotenv()\n",
    "key=os.getenv(\"OPENAI_API_KEY\")"
   ]
  },
  {
   "cell_type": "code",
   "execution_count": 8,
   "metadata": {},
   "outputs": [],
   "source": [
    "llm=ChatOpenAI(openai_api_key=key,model_name=\"gpt-3.5-turbo\",temperature=0.7)"
   ]
  },
  {
   "cell_type": "code",
   "execution_count": 13,
   "metadata": {},
   "outputs": [],
   "source": [
    "TEMPLATE=\"\"\"\n",
    "Text:{text}\n",
    "You are an expert MCQ maker. Given the above text, it is your job to \\\n",
    "create a quiz  of {number} multiple choice questions for {subject} students in {tone} tone. \n",
    "Make sure the questions are not repeated and check all the questions to be conforming the text as well.\n",
    "Make sure to format your response like  RESPONSE_JSON below  and use it as a guide. \\\n",
    "Ensure to make {number} MCQs\n",
    "### RESPONSE_JSON\n",
    "{RESPONSE_JSON}\n",
    "\n",
    "\"\"\""
   ]
  },
  {
   "cell_type": "code",
   "execution_count": 10,
   "metadata": {},
   "outputs": [],
   "source": [
    "with open(\"e:\\\\Girish Documents\\\\Study\\\\Data Science\\\\DataScience_GenAI_Study\\\\GenAI_MCQ-Generator_Project\\\\Response.json\",\"r\") as f:\n",
    "    RESPONSE_JSON=json.load(f)"
   ]
  },
  {
   "cell_type": "code",
   "execution_count": 11,
   "metadata": {},
   "outputs": [
    {
     "name": "stdout",
     "output_type": "stream",
     "text": [
      "{'1': {'no': '1', 'mcq': 'multiple choice questions', 'options': {'a': 'choice here', 'b': 'choice here', 'c': 'choice here', 'd': 'choice here'}, 'correct': 'correct answer'}, '2': {'no': '2', 'mcq': 'multiple choice questions', 'options': {'a': 'choice here', 'b': 'choice here', 'c': 'choice here', 'd': 'choice here'}, 'correct': 'correct answer'}, '3': {'no': '3', 'mcq': 'multiple choice questions', 'options': {'a': 'choice here', 'b': 'choice here', 'c': 'choice here', 'd': 'choice here'}, 'correct': 'correct answer'}}\n"
     ]
    }
   ],
   "source": [
    "print(RESPONSE_JSON)"
   ]
  },
  {
   "cell_type": "code",
   "execution_count": 15,
   "metadata": {},
   "outputs": [],
   "source": [
    "quiz_generation_prompt = PromptTemplate(\n",
    "    input_variables=[\"text\", \"number\", \"subject\",\"tone\",\"RESPONSE_JSON\"],\n",
    "    template=TEMPLATE\n",
    ")\n",
    "\n",
    "quiz_chain = LLMChain(llm=llm,prompt=quiz_generation_prompt,output_key=\"quiz\",verbose=True)"
   ]
  },
  {
   "cell_type": "code",
   "execution_count": 16,
   "metadata": {},
   "outputs": [],
   "source": [
    "TEMPLATE2=\"\"\"\n",
    "You are an expert english grammarian and writer. Given a Multiple Choice Quiz for {subject} students.\\\n",
    "You need to evaluate the complexity of the question and give a complete analysis of the quiz. Only use at max 50 words for complexity analysis. \n",
    "if the quiz is not at per with the cognitive and analytical abilities of the students,\\\n",
    "update the quiz questions which needs to be changed and change the tone such that it perfectly fits the student abilities\n",
    "Quiz_MCQs:\n",
    "{quiz}\n",
    "\n",
    "Check from an expert English Writer of the above quiz:\n",
    "\"\"\""
   ]
  },
  {
   "cell_type": "code",
   "execution_count": 17,
   "metadata": {},
   "outputs": [],
   "source": [
    "quiz_evaluation_prompt = PromptTemplate(\n",
    "    input_variables=[\"subject\", \"quiz\"], \n",
    "    template=TEMPLATE2\n",
    "    )\n",
    "\n",
    "quiz_review_chain = LLMChain(llm=llm, prompt=quiz_evaluation_prompt, output_key=\"review\",verbose=True)"
   ]
  },
  {
   "cell_type": "code",
   "execution_count": 18,
   "metadata": {},
   "outputs": [],
   "source": [
    "generate_evaluate_chain = SequentialChain(\n",
    "    chains=[quiz_chain, quiz_review_chain], \n",
    "    input_variables=[\"text\", \"number\", \"subject\", \"tone\", \"RESPONSE_JSON\"],\n",
    "    output_variables=[\"quiz\", \"review\"], \n",
    "    verbose=True)\n"
   ]
  },
  {
   "cell_type": "code",
   "execution_count": 20,
   "metadata": {},
   "outputs": [],
   "source": [
    "PATH=\"E:\\Girish Documents\\Study\\Data Science\\DataScience_GenAI_Study\\GenAI_MCQ-Generator_Project\\data.txt\""
   ]
  },
  {
   "cell_type": "code",
   "execution_count": 21,
   "metadata": {},
   "outputs": [
    {
     "name": "stdout",
     "output_type": "stream",
     "text": [
      "E:\\Girish Documents\\Study\\Data Science\\DataScience_GenAI_Study\\GenAI_MCQ-Generator_Project\\data.txt\n"
     ]
    }
   ],
   "source": [
    "print(PATH)"
   ]
  },
  {
   "cell_type": "code",
   "execution_count": 22,
   "metadata": {},
   "outputs": [],
   "source": [
    "with open(PATH,\"r\") as file:\n",
    "    TEXT = file.read()"
   ]
  },
  {
   "cell_type": "code",
   "execution_count": 23,
   "metadata": {},
   "outputs": [
    {
     "name": "stdout",
     "output_type": "stream",
     "text": [
      "Recent progress in generative models have resulted in models that can produce realistic text, images and video that can potentially revolutionize the way humans work, create content and interact with machines. The workshop on Generative AI at AIMLSystems will focus on the entire life-cycle of building and deploying such Generative AI systems, including data collection and processing, developing systems and requisite infrastructure, applications it enables, and the ethics associated with such technology covering concerns related to fairness, transparency and accountability. We invite original, unpublished work on Artificial Intelligence with a focus on generative AI and their use cases. Specifically, the topics of interest include but are not limited to:\n",
      "\n",
      "Systems, architecture and infrastructure for Generative AI\n",
      "Machine learning and Modeling using LLMs and Diffusion models\n",
      "Large Language Models and its applications\n",
      "Multi-modal Generative AI and its applications\n",
      "Gen AI based Plugins and agents\n",
      "Deployment of Generative AI solutions\n",
      "Evaluation of Language and Diffusion based models\n",
      "Responsible use of Gen AI\n"
     ]
    }
   ],
   "source": [
    "print(TEXT)"
   ]
  },
  {
   "cell_type": "code",
   "execution_count": 24,
   "metadata": {},
   "outputs": [],
   "source": [
    "TEXT\n",
    "NUMBER=5\n",
    "SUBJECT=\"AI\"\n",
    "TONE=\"Simple\",\n",
    "RESPONSE_JSON=RESPONSE_JSON"
   ]
  },
  {
   "cell_type": "code",
   "execution_count": 25,
   "metadata": {},
   "outputs": [
    {
     "data": {
      "text/plain": [
       "'{\"1\": {\"no\": \"1\", \"mcq\": \"multiple choice questions\", \"options\": {\"a\": \"choice here\", \"b\": \"choice here\", \"c\": \"choice here\", \"d\": \"choice here\"}, \"correct\": \"correct answer\"}, \"2\": {\"no\": \"2\", \"mcq\": \"multiple choice questions\", \"options\": {\"a\": \"choice here\", \"b\": \"choice here\", \"c\": \"choice here\", \"d\": \"choice here\"}, \"correct\": \"correct answer\"}, \"3\": {\"no\": \"3\", \"mcq\": \"multiple choice questions\", \"options\": {\"a\": \"choice here\", \"b\": \"choice here\", \"c\": \"choice here\", \"d\": \"choice here\"}, \"correct\": \"correct answer\"}}'"
      ]
     },
     "execution_count": 25,
     "metadata": {},
     "output_type": "execute_result"
    }
   ],
   "source": [
    "import json\n",
    "json.dumps(RESPONSE_JSON)"
   ]
  },
  {
   "cell_type": "code",
   "execution_count": 27,
   "metadata": {},
   "outputs": [
    {
     "name": "stdout",
     "output_type": "stream",
     "text": [
      "\n",
      "\n",
      "\u001b[1m> Entering new SequentialChain chain...\u001b[0m\n",
      "\n",
      "\n",
      "\u001b[1m> Entering new LLMChain chain...\u001b[0m\n",
      "Prompt after formatting:\n",
      "\u001b[32;1m\u001b[1;3m\n",
      "Text:Recent progress in generative models have resulted in models that can produce realistic text, images and video that can potentially revolutionize the way humans work, create content and interact with machines. The workshop on Generative AI at AIMLSystems will focus on the entire life-cycle of building and deploying such Generative AI systems, including data collection and processing, developing systems and requisite infrastructure, applications it enables, and the ethics associated with such technology covering concerns related to fairness, transparency and accountability. We invite original, unpublished work on Artificial Intelligence with a focus on generative AI and their use cases. Specifically, the topics of interest include but are not limited to:\n",
      "\n",
      "Systems, architecture and infrastructure for Generative AI\n",
      "Machine learning and Modeling using LLMs and Diffusion models\n",
      "Large Language Models and its applications\n",
      "Multi-modal Generative AI and its applications\n",
      "Gen AI based Plugins and agents\n",
      "Deployment of Generative AI solutions\n",
      "Evaluation of Language and Diffusion based models\n",
      "Responsible use of Gen AI\n",
      "You are an expert MCQ maker. Given the above text, it is your job to create a quiz  of 5 multiple choice questions for AI students in ('Simple',) tone. \n",
      "Make sure the questions are not repeated and check all the questions to be conforming the text as well.\n",
      "Make sure to format your response like  RESPONSE_JSON below  and use it as a guide. Ensure to make 5 MCQs\n",
      "### RESPONSE_JSON\n",
      "{\"1\": {\"no\": \"1\", \"mcq\": \"multiple choice questions\", \"options\": {\"a\": \"choice here\", \"b\": \"choice here\", \"c\": \"choice here\", \"d\": \"choice here\"}, \"correct\": \"correct answer\"}, \"2\": {\"no\": \"2\", \"mcq\": \"multiple choice questions\", \"options\": {\"a\": \"choice here\", \"b\": \"choice here\", \"c\": \"choice here\", \"d\": \"choice here\"}, \"correct\": \"correct answer\"}, \"3\": {\"no\": \"3\", \"mcq\": \"multiple choice questions\", \"options\": {\"a\": \"choice here\", \"b\": \"choice here\", \"c\": \"choice here\", \"d\": \"choice here\"}, \"correct\": \"correct answer\"}}\n",
      "\n",
      "\u001b[0m\n",
      "\n",
      "\u001b[1m> Finished chain.\u001b[0m\n",
      "\n",
      "\n",
      "\u001b[1m> Entering new LLMChain chain...\u001b[0m\n",
      "Prompt after formatting:\n",
      "\u001b[32;1m\u001b[1;3m\n",
      "You are an expert english grammarian and writer. Given a Multiple Choice Quiz for AI students.You need to evaluate the complexity of the question and give a complete analysis of the quiz. Only use at max 50 words for complexity analysis. \n",
      "if the quiz is not at per with the cognitive and analytical abilities of the students,update the quiz questions which needs to be changed and change the tone such that it perfectly fits the student abilities\n",
      "Quiz_MCQs:\n",
      "{\"1\": {\"no\": \"1\", \"mcq\": \"What is the focus of the workshop on Generative AI at AIMLSystems?\", \"options\": {\"a\": \"Building and deploying AI systems\", \"b\": \"Data collection and processing\", \"c\": \"Developing infrastructure\", \"d\": \"Ethics in AI\"}, \"correct\": \"a\"}, \"2\": {\"no\": \"2\", \"mcq\": \"Which of the following is NOT a topic of interest in the workshop?\", \"options\": {\"a\": \"Systems and infrastructure for Generative AI\", \"b\": \"Machine learning and Modeling using LLMs\", \"c\": \"Responsible use of Gen AI\", \"d\": \"Blockchain technology\"}, \"correct\": \"d\"}, \"3\": {\"no\": \"3\", \"mcq\": \"What does Gen AI stand for?\", \"options\": {\"a\": \"General Artificial Intelligence\", \"b\": \"Generative Algorithmic Intelligence\", \"c\": \"Generation of Artificial Intelligence\", \"d\": \"Generalized AI\"}, \"correct\": \"b\"}, \"4\": {\"no\": \"4\", \"mcq\": \"What is the purpose of evaluating Language and Diffusion based models?\", \"options\": {\"a\": \"To ensure fairness and transparency\", \"b\": \"To improve the accuracy of the models\", \"c\": \"To analyze the effectiveness of Gen AI\", \"d\": \"To develop large language models\"}, \"correct\": \"c\"}, \"5\": {\"no\": \"5\", \"mcq\": \"What is one of the concerns associated with Generative AI technology?\", \"options\": {\"a\": \"Data collection and processing\", \"b\": \"Fairness and accountability\", \"c\": \"Applications of Generative AI\", \"d\": \"Developing infrastructure\"}, \"correct\": \"b\"}}\n",
      "\n",
      "Check from an expert English Writer of the above quiz:\n",
      "\u001b[0m\n",
      "\n",
      "\u001b[1m> Finished chain.\u001b[0m\n",
      "\n",
      "\u001b[1m> Finished chain.\u001b[0m\n"
     ]
    }
   ],
   "source": [
    "with  get_openai_callback() as cb:\n",
    "    response=generate_evaluate_chain(\n",
    "        {\n",
    "\n",
    "        \"text\": TEXT,\n",
    "        \"number\": NUMBER,\n",
    "        \"subject\": SUBJECT,\n",
    "        \"tone\": TONE,\n",
    "        \"RESPONSE_JSON\": json.dumps(RESPONSE_JSON)\n",
    "\n",
    "        }\n",
    "    )"
   ]
  },
  {
   "cell_type": "code",
   "execution_count": 28,
   "metadata": {},
   "outputs": [
    {
     "name": "stdout",
     "output_type": "stream",
     "text": [
      "Total Tokens:1379\n",
      "Prompt Tokens:954\n",
      "Completion Tokens:425\n",
      "Total Cost:0.002281\n"
     ]
    }
   ],
   "source": [
    "print(f\"Total Tokens:{cb.total_tokens}\")\n",
    "print(f\"Prompt Tokens:{cb.prompt_tokens}\")\n",
    "print(f\"Completion Tokens:{cb.completion_tokens}\")\n",
    "print(f\"Total Cost:{cb.total_cost}\")"
   ]
  },
  {
   "cell_type": "code",
   "execution_count": 29,
   "metadata": {},
   "outputs": [
    {
     "data": {
      "text/plain": [
       "{'text': 'Recent progress in generative models have resulted in models that can produce realistic text, images and video that can potentially revolutionize the way humans work, create content and interact with machines. The workshop on Generative AI at AIMLSystems will focus on the entire life-cycle of building and deploying such Generative AI systems, including data collection and processing, developing systems and requisite infrastructure, applications it enables, and the ethics associated with such technology covering concerns related to fairness, transparency and accountability. We invite original, unpublished work on Artificial Intelligence with a focus on generative AI and their use cases. Specifically, the topics of interest include but are not limited to:\\n\\nSystems, architecture and infrastructure for Generative AI\\nMachine learning and Modeling using LLMs and Diffusion models\\nLarge Language Models and its applications\\nMulti-modal Generative AI and its applications\\nGen AI based Plugins and agents\\nDeployment of Generative AI solutions\\nEvaluation of Language and Diffusion based models\\nResponsible use of Gen AI',\n",
       " 'number': 5,\n",
       " 'subject': 'AI',\n",
       " 'tone': ('Simple',),\n",
       " 'RESPONSE_JSON': '{\"1\": {\"no\": \"1\", \"mcq\": \"multiple choice questions\", \"options\": {\"a\": \"choice here\", \"b\": \"choice here\", \"c\": \"choice here\", \"d\": \"choice here\"}, \"correct\": \"correct answer\"}, \"2\": {\"no\": \"2\", \"mcq\": \"multiple choice questions\", \"options\": {\"a\": \"choice here\", \"b\": \"choice here\", \"c\": \"choice here\", \"d\": \"choice here\"}, \"correct\": \"correct answer\"}, \"3\": {\"no\": \"3\", \"mcq\": \"multiple choice questions\", \"options\": {\"a\": \"choice here\", \"b\": \"choice here\", \"c\": \"choice here\", \"d\": \"choice here\"}, \"correct\": \"correct answer\"}}',\n",
       " 'quiz': '{\"1\": {\"no\": \"1\", \"mcq\": \"What is the focus of the workshop on Generative AI at AIMLSystems?\", \"options\": {\"a\": \"Building and deploying AI systems\", \"b\": \"Data collection and processing\", \"c\": \"Developing infrastructure\", \"d\": \"Ethics in AI\"}, \"correct\": \"a\"}, \"2\": {\"no\": \"2\", \"mcq\": \"Which of the following is NOT a topic of interest in the workshop?\", \"options\": {\"a\": \"Systems and infrastructure for Generative AI\", \"b\": \"Machine learning and Modeling using LLMs\", \"c\": \"Responsible use of Gen AI\", \"d\": \"Blockchain technology\"}, \"correct\": \"d\"}, \"3\": {\"no\": \"3\", \"mcq\": \"What does Gen AI stand for?\", \"options\": {\"a\": \"General Artificial Intelligence\", \"b\": \"Generative Algorithmic Intelligence\", \"c\": \"Generation of Artificial Intelligence\", \"d\": \"Generalized AI\"}, \"correct\": \"b\"}, \"4\": {\"no\": \"4\", \"mcq\": \"What is the purpose of evaluating Language and Diffusion based models?\", \"options\": {\"a\": \"To ensure fairness and transparency\", \"b\": \"To improve the accuracy of the models\", \"c\": \"To analyze the effectiveness of Gen AI\", \"d\": \"To develop large language models\"}, \"correct\": \"c\"}, \"5\": {\"no\": \"5\", \"mcq\": \"What is one of the concerns associated with Generative AI technology?\", \"options\": {\"a\": \"Data collection and processing\", \"b\": \"Fairness and accountability\", \"c\": \"Applications of Generative AI\", \"d\": \"Developing infrastructure\"}, \"correct\": \"b\"}}',\n",
       " 'review': 'The complexity of the quiz is moderate. The questions are clear and concise, covering a range of topics related to Generative AI. The options provided are relevant and the correct answers are not immediately obvious. The tone is appropriate for AI students. No changes are required.'}"
      ]
     },
     "execution_count": 29,
     "metadata": {},
     "output_type": "execute_result"
    }
   ],
   "source": [
    "response"
   ]
  },
  {
   "cell_type": "code",
   "execution_count": 30,
   "metadata": {},
   "outputs": [],
   "source": [
    "quiz=response.get(\"quiz\")"
   ]
  },
  {
   "cell_type": "code",
   "execution_count": 31,
   "metadata": {},
   "outputs": [],
   "source": [
    "quiz=json.loads(quiz)"
   ]
  },
  {
   "cell_type": "code",
   "execution_count": 32,
   "metadata": {},
   "outputs": [
    {
     "data": {
      "text/plain": [
       "{'1': {'no': '1',\n",
       "  'mcq': 'What is the focus of the workshop on Generative AI at AIMLSystems?',\n",
       "  'options': {'a': 'Building and deploying AI systems',\n",
       "   'b': 'Data collection and processing',\n",
       "   'c': 'Developing infrastructure',\n",
       "   'd': 'Ethics in AI'},\n",
       "  'correct': 'a'},\n",
       " '2': {'no': '2',\n",
       "  'mcq': 'Which of the following is NOT a topic of interest in the workshop?',\n",
       "  'options': {'a': 'Systems and infrastructure for Generative AI',\n",
       "   'b': 'Machine learning and Modeling using LLMs',\n",
       "   'c': 'Responsible use of Gen AI',\n",
       "   'd': 'Blockchain technology'},\n",
       "  'correct': 'd'},\n",
       " '3': {'no': '3',\n",
       "  'mcq': 'What does Gen AI stand for?',\n",
       "  'options': {'a': 'General Artificial Intelligence',\n",
       "   'b': 'Generative Algorithmic Intelligence',\n",
       "   'c': 'Generation of Artificial Intelligence',\n",
       "   'd': 'Generalized AI'},\n",
       "  'correct': 'b'},\n",
       " '4': {'no': '4',\n",
       "  'mcq': 'What is the purpose of evaluating Language and Diffusion based models?',\n",
       "  'options': {'a': 'To ensure fairness and transparency',\n",
       "   'b': 'To improve the accuracy of the models',\n",
       "   'c': 'To analyze the effectiveness of Gen AI',\n",
       "   'd': 'To develop large language models'},\n",
       "  'correct': 'c'},\n",
       " '5': {'no': '5',\n",
       "  'mcq': 'What is one of the concerns associated with Generative AI technology?',\n",
       "  'options': {'a': 'Data collection and processing',\n",
       "   'b': 'Fairness and accountability',\n",
       "   'c': 'Applications of Generative AI',\n",
       "   'd': 'Developing infrastructure'},\n",
       "  'correct': 'b'}}"
      ]
     },
     "execution_count": 32,
     "metadata": {},
     "output_type": "execute_result"
    }
   ],
   "source": [
    "quiz"
   ]
  },
  {
   "cell_type": "code",
   "execution_count": 33,
   "metadata": {},
   "outputs": [],
   "source": [
    "quiz_table_data = []\n",
    "for key, value in quiz.items():\n",
    "    mcq = value[\"mcq\"]\n",
    "    options = \" | \".join(\n",
    "        [\n",
    "            f\"{option}: {option_value}\"\n",
    "            for option, option_value in value[\"options\"].items()\n",
    "            ]\n",
    "        )\n",
    "    correct = value[\"correct\"]\n",
    "    quiz_table_data.append({\"MCQ\": mcq, \"Choices\": options, \"Correct\": correct})"
   ]
  },
  {
   "cell_type": "code",
   "execution_count": 34,
   "metadata": {},
   "outputs": [
    {
     "data": {
      "text/plain": [
       "[{'MCQ': 'What is the focus of the workshop on Generative AI at AIMLSystems?',\n",
       "  'Choices': 'a: Building and deploying AI systems | b: Data collection and processing | c: Developing infrastructure | d: Ethics in AI',\n",
       "  'Correct': 'a'},\n",
       " {'MCQ': 'Which of the following is NOT a topic of interest in the workshop?',\n",
       "  'Choices': 'a: Systems and infrastructure for Generative AI | b: Machine learning and Modeling using LLMs | c: Responsible use of Gen AI | d: Blockchain technology',\n",
       "  'Correct': 'd'},\n",
       " {'MCQ': 'What does Gen AI stand for?',\n",
       "  'Choices': 'a: General Artificial Intelligence | b: Generative Algorithmic Intelligence | c: Generation of Artificial Intelligence | d: Generalized AI',\n",
       "  'Correct': 'b'},\n",
       " {'MCQ': 'What is the purpose of evaluating Language and Diffusion based models?',\n",
       "  'Choices': 'a: To ensure fairness and transparency | b: To improve the accuracy of the models | c: To analyze the effectiveness of Gen AI | d: To develop large language models',\n",
       "  'Correct': 'c'},\n",
       " {'MCQ': 'What is one of the concerns associated with Generative AI technology?',\n",
       "  'Choices': 'a: Data collection and processing | b: Fairness and accountability | c: Applications of Generative AI | d: Developing infrastructure',\n",
       "  'Correct': 'b'}]"
      ]
     },
     "execution_count": 34,
     "metadata": {},
     "output_type": "execute_result"
    }
   ],
   "source": [
    "quiz_table_data"
   ]
  },
  {
   "cell_type": "code",
   "execution_count": 35,
   "metadata": {},
   "outputs": [],
   "source": [
    "df=pd.DataFrame(quiz_table_data)"
   ]
  },
  {
   "cell_type": "code",
   "execution_count": 36,
   "metadata": {},
   "outputs": [],
   "source": [
    "df.to_csv(\"genai.csv\",index=False)"
   ]
  },
  {
   "cell_type": "code",
   "execution_count": 37,
   "metadata": {},
   "outputs": [],
   "source": [
    "LOG_FILE=\"{datetime.now().strftime('%m_%d_%Y_%H_%M_%S')}.log\""
   ]
  },
  {
   "cell_type": "code",
   "execution_count": 38,
   "metadata": {},
   "outputs": [
    {
     "data": {
      "text/plain": [
       "\"{datetime.now().strftime('%m_%d_%Y_%H_%M_%S')}.log\""
      ]
     },
     "execution_count": 38,
     "metadata": {},
     "output_type": "execute_result"
    }
   ],
   "source": [
    "LOG_FILE"
   ]
  },
  {
   "cell_type": "code",
   "execution_count": 39,
   "metadata": {},
   "outputs": [
    {
     "data": {
      "text/plain": [
       "'01_14_2024_18_49_46'"
      ]
     },
     "execution_count": 39,
     "metadata": {},
     "output_type": "execute_result"
    }
   ],
   "source": [
    "from datetime import datetime\n",
    "datetime.now().strftime('%m_%d_%Y_%H_%M_%S')"
   ]
  },
  {
   "cell_type": "code",
   "execution_count": null,
   "metadata": {},
   "outputs": [],
   "source": []
  }
 ],
 "metadata": {
  "kernelspec": {
   "display_name": "genaiMCQ",
   "language": "python",
   "name": "python3"
  },
  "language_info": {
   "codemirror_mode": {
    "name": "ipython",
    "version": 3
   },
   "file_extension": ".py",
   "mimetype": "text/x-python",
   "name": "python",
   "nbconvert_exporter": "python",
   "pygments_lexer": "ipython3",
   "version": "3.8.18"
  }
 },
 "nbformat": 4,
 "nbformat_minor": 2
}
